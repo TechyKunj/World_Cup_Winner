{
 "cells": [
  {
   "cell_type": "code",
   "execution_count": null,
   "metadata": {},
   "outputs": [],
   "source": [
    "#For Extract the World Cup we install first this library : extract-wc-data\n",
    "from ExtractWCData.get_latest_data import GetData\n",
    "data = GetData()\n",
    "df = data.get_data()\n",
    "\n",
    "df.tail()"
   ]
  },
  {
   "cell_type": "code",
   "execution_count": null,
   "metadata": {},
   "outputs": [],
   "source": [
    "df.to_csv('latest_data.csv')"
   ]
  },
  {
   "cell_type": "code",
   "execution_count": null,
   "metadata": {},
   "outputs": [],
   "source": [
    "import pandas as pd\n",
    "import numpy as np\n",
    "import matplotlib.pyplot as plt\n",
    "import seaborn as sns"
   ]
  },
  {
   "cell_type": "code",
   "execution_count": null,
   "metadata": {},
   "outputs": [],
   "source": [
    "#Load all the Csv datasets\n",
    "\n",
    "world_cup = pd.read_csv(\"world_cup_2023.csv\")\n",
    "world_cup.head()"
   ]
  },
  {
   "cell_type": "code",
   "execution_count": null,
   "metadata": {},
   "outputs": [],
   "source": [
    "results = pd.read_csv(\"results.csv\")\n",
    "results.tail()"
   ]
  },
  {
   "cell_type": "code",
   "execution_count": null,
   "metadata": {},
   "outputs": [],
   "source": [
    "latest = pd.read_csv('latest_data.csv')\n",
    "latest.head()"
   ]
  },
  {
   "cell_type": "code",
   "execution_count": null,
   "metadata": {},
   "outputs": [],
   "source": [
    "print(f'World_Cup data shape : {world_cup.shape}')\n",
    "print(f'Results data shape : {results.shape}')\n",
    "print(f'Latest world cup data shape : {latest.shape}')"
   ]
  },
  {
   "cell_type": "code",
   "execution_count": null,
   "metadata": {},
   "outputs": [],
   "source": [
    "results = pd.concat([results,latest], axis = 0)\n",
    "\n",
    "results = results.reset_index(drop=True)\n",
    "\n",
    "results.tail()\n"
   ]
  },
  {
   "cell_type": "code",
   "execution_count": null,
   "metadata": {},
   "outputs": [],
   "source": [
    "results.shape"
   ]
  },
  {
   "cell_type": "code",
   "execution_count": null,
   "metadata": {},
   "outputs": [],
   "source": [
    "results.columns"
   ]
  },
  {
   "cell_type": "code",
   "execution_count": null,
   "metadata": {},
   "outputs": [],
   "source": [
    "results.drop(columns=['Date','Ground','Margin'], axis=1, inplace = True)\n",
    "results.head()"
   ]
  },
  {
   "cell_type": "code",
   "execution_count": null,
   "metadata": {},
   "outputs": [],
   "source": [
    "world_cup_teams=['England','India','Pakistan','South Africa','New Zealand'\n",
    "                'Sri Lanka','Afganistan','Bangladesh','Australia','Netherlands']"
   ]
  },
  {
   "cell_type": "code",
   "execution_count": null,
   "metadata": {},
   "outputs": [],
   "source": [
    "df_teams_1= results[results['Team_1'].isin(world_cup_teams)]\n",
    "df_teams_2= results[results['Team_2'].isin(world_cup_teams)]\n",
    "df_winners = results[results['Winner'].isin(world_cup_teams)]\n",
    "\n",
    "df_team=pd.concat((df_teams_1,df_teams_2,df_winners), axis =0)\n",
    "df_team.tail()\n"
   ]
  },
  {
   "cell_type": "code",
   "execution_count": null,
   "metadata": {},
   "outputs": [],
   "source": [
    "#So we covert string into numerical because in numerical data we analyse easy as compare to string\n",
    "df_team.loc[:,'Winning']=np.where(df_team['Winner']==df_team['Team_1'],1,2)\n",
    "df_team.tail()"
   ]
  },
  {
   "cell_type": "code",
   "execution_count": null,
   "metadata": {},
   "outputs": [],
   "source": [
    "df_team.drop(columns=['Unnamed: 0','Winner'],axis=1,inplace=True)\n",
    "df_team.head()"
   ]
  },
  {
   "cell_type": "code",
   "execution_count": null,
   "metadata": {},
   "outputs": [],
   "source": [
    "#So we transform data So we use Sklearn\n",
    "from sklearn.preprocessing import OneHotEncoder\n",
    "from sklearn.model_selection import train_test_split"
   ]
  },
  {
   "cell_type": "code",
   "execution_count": null,
   "metadata": {},
   "outputs": [],
   "source": [
    "#Apply the encoding\n",
    "df_team = pd.get_dummies(df_team,prefix=['Team_1','Team_2'], columns=['Team_1','Team_2'], dtype=int,sparse=False)\n",
    "df_team.head()\n"
   ]
  },
  {
   "cell_type": "code",
   "execution_count": null,
   "metadata": {},
   "outputs": [],
   "source": [
    "x =df_team.drop(columns=['Winning'],axis=1)\n",
    "y =df_team['Winning']"
   ]
  },
  {
   "cell_type": "code",
   "execution_count": null,
   "metadata": {},
   "outputs": [],
   "source": [
    "#Splitting the data in the training and testing set\n",
    "x_train,x_test,y_train,y_test= train_test_split(x,y,test_size=0.2,random_state=34)"
   ]
  },
  {
   "cell_type": "code",
   "execution_count": null,
   "metadata": {},
   "outputs": [],
   "source": [
    "x_train"
   ]
  },
  {
   "cell_type": "code",
   "execution_count": null,
   "metadata": {},
   "outputs": [],
   "source": [
    "y_train"
   ]
  },
  {
   "cell_type": "code",
   "execution_count": null,
   "metadata": {},
   "outputs": [],
   "source": [
    "from sklearn.tree import DecisionTreeClassifier\n",
    "from sklearn.ensemble import RandomForestClassifier\n",
    "from sklearn.linear_model import LogisticRegression\n",
    "from sklearn.metrics import accuracy_score\n",
    "from sklearn.pipeline import Pipeline\n"
   ]
  },
  {
   "cell_type": "code",
   "execution_count": null,
   "metadata": {},
   "outputs": [],
   "source": [
    "#Define Classifier\n",
    "\n",
    "classifiers={\n",
    "    'Random Forest': RandomForestClassifier(),\n",
    "    'Logistic Regression': LogisticRegression(),\n",
    "    'Decision Tree': DecisionTreeClassifier()\n",
    "}\n",
    "\n",
    "for name, clf in classifiers.items():\n",
    "    pipeline = Pipeline([('classifier',clf)])\n",
    "\n",
    "    pipeline.fit(x_train,y_train)\n",
    "\n",
    "    #Make Prediction\n",
    "    y_pred=pipeline.predict(x_test)\n",
    "\n",
    "    #Calculate the accuracy\n",
    "    acc = accuracy_score(y_test,y_pred)\n",
    "\n",
    "    print(f'{name}: ')\n",
    "    print(f\"Accuracy : {acc:.4f}\")"
   ]
  },
  {
   "cell_type": "code",
   "execution_count": null,
   "metadata": {},
   "outputs": [],
   "source": [
    "rf = RandomForestClassifier()\n",
    "rf.fit(x_train,y_train)"
   ]
  },
  {
   "cell_type": "code",
   "execution_count": null,
   "metadata": {},
   "outputs": [],
   "source": [
    "predictions=rf.predict(x_test)"
   ]
  },
  {
   "cell_type": "code",
   "execution_count": null,
   "metadata": {},
   "outputs": [],
   "source": [
    "label_to_team ={1:'Team_1',2:'Team_2'}\n",
    "\n",
    "Winner=[label_to_team[label] for label in predictions]\n",
    "\n",
    "print(Winner)"
   ]
  },
  {
   "cell_type": "code",
   "execution_count": null,
   "metadata": {},
   "outputs": [],
   "source": [
    "rankings = pd.read_csv('Icc_ranking.csv')\n",
    "rankings.head()"
   ]
  },
  {
   "cell_type": "code",
   "execution_count": null,
   "metadata": {},
   "outputs": [],
   "source": [
    "fixtures = pd.read_csv(\"Fixtures.csv\")\n",
    "fixtures.head()"
   ]
  },
  {
   "cell_type": "code",
   "execution_count": null,
   "metadata": {},
   "outputs": [],
   "source": [
    "pred_set =[]\n",
    "\n",
    "fixtures.insert(1, 'first_position',fixtures['Team_1'].map(rankings.set_index('Team_name')['Team_ranking']))\n",
    "fixtures.insert(2, 'second_position',fixtures['Team_2'].map(rankings.set_index('Team_name')['Team_ranking']))\n",
    "\n",
    "fixtures=fixtures.iloc[:80 ,:]\n",
    "fixtures.head()"
   ]
  },
  {
   "cell_type": "code",
   "execution_count": null,
   "metadata": {},
   "outputs": [],
   "source": [
    "for index, row in fixtures.iterrows():\n",
    "    if row['first_position'] < row['second_position']:\n",
    "\n",
    "        pred_set.append({'Team_1' :row['Team_1'] , 'Team_2' :row['Team_2'] , 'Winning_team' : None })\n",
    "    else:\n",
    "        pred_set.append({'Team_1' :row['Team_2'] , 'Team_2' :row['Team_1'] , 'Winning_team' : None })\n",
    "\n",
    "pred_set = pd.DataFrame(pred_set)\n",
    "\n",
    "pred_set.head()"
   ]
  },
  {
   "cell_type": "code",
   "execution_count": null,
   "metadata": {},
   "outputs": [],
   "source": [
    "backup_pred_set=pred_set"
   ]
  },
  {
   "cell_type": "code",
   "execution_count": null,
   "metadata": {},
   "outputs": [],
   "source": [
    "pred_set = pd.get_dummies(pred_set, prefix=['Team_1', 'Team_2'], columns=['Team_1', 'Team_2'], dtype=int)\n",
    "\n",
    "missing_cols = set(df_team.columns) - set(pred_set.columns)"
   ]
  },
  {
   "cell_type": "code",
   "execution_count": null,
   "metadata": {},
   "outputs": [],
   "source": [
    "for cols in missing_cols :\n",
    "    pred_set[cols] = 0\n",
    "\n",
    "pred_set = pred_set[df_team.columns]\n",
    "\n",
    "pred_set = pred_set.drop(['Winning'], axis=1)\n",
    "pred_set.head()"
   ]
  },
  {
   "cell_type": "code",
   "execution_count": null,
   "metadata": {},
   "outputs": [],
   "source": [
    "predictions = rf.predict(pred_set)\n",
    "for i in range(fixtures.shape[0]):\n",
    "\n",
    "    print(backup_pred_set.iloc[i,1] + \" Vs \" + backup_pred_set.iloc[i,0])\n",
    "    if predictions[i]==1 :\n",
    "        print('Winner : ' + backup_pred_set.iloc[i,1])\n",
    "    else :\n",
    "        print('Winner : ' + backup_pred_set.iloc[i,0])\n",
    "    print(\"\")"
   ]
  },
  {
   "cell_type": "code",
   "execution_count": null,
   "metadata": {},
   "outputs": [],
   "source": [
    "latest.head()"
   ]
  },
  {
   "cell_type": "code",
   "execution_count": null,
   "metadata": {},
   "outputs": [],
   "source": [
    "latest.drop(columns = ['Unnamed: 0'], axis=1 , inplace=True)\n",
    "latest.head()"
   ]
  },
  {
   "cell_type": "code",
   "execution_count": null,
   "metadata": {},
   "outputs": [],
   "source": [
    "top_winners = latest['Winner'].value_counts().head(4).index.tolist()\n",
    "\n",
    "print(f\"Top 4 teams : {top_winners}\")"
   ]
  },
  {
   "cell_type": "code",
   "execution_count": null,
   "metadata": {},
   "outputs": [],
   "source": [
    "# Predict the single match results of future\n",
    "\n",
    "def predict_single_match(model, rankings, team_1, team_2):\n",
    "  single_match_data = pd.DataFrame({\n",
    "      'Team_1': [team_1],\n",
    "      'Team_2':[team_2]\n",
    "  })\n",
    "\n",
    "  #Insert the team ranking data\n",
    "  single_match_data.insert(1, 'first_position',single_match_data['Team_1'].map(rankings.set_index(\"Team_name\")['Team_ranking']))\n",
    "  single_match_data.insert(2, 'second_position',single_match_data['Team_2'].map(rankings.set_index(\"Team_name\")['Team_ranking']))\n",
    "\n",
    "  # Apply one hot encoding\n",
    "  single_match_data = pd.get_dummies(single_match_data, prefix = ['Team_1', 'Team_2'], columns=['Team_1', 'Team_2'], dtype=int)\n",
    "\n",
    "  #Find the missing columns\n",
    "  missing_cols = set(df_team.columns) - set(single_match_data.columns)\n",
    "\n",
    "  #Set the missing columns to 0 and then keep only the columns present\n",
    "\n",
    "  for col in missing_cols:\n",
    "    single_match_data[col] = 0\n",
    "\n",
    "  single_match_data = single_match_data[df_team.columns]\n",
    "\n",
    "  #Drop the winning column\n",
    "  single_match_data = single_match_data.drop(['Winning'], axis=1)\n",
    "\n",
    "  #Making the prediction\n",
    "  prediction = model.predict(single_match_data)\n",
    "\n",
    "  #print the result\n",
    "  print(f\"{team_1} vs {team_2}\")\n",
    "\n",
    "  if prediction[0] ==1 :\n",
    "    print(f\"Winner: {team_1}\")\n",
    "  else:\n",
    "    print(f\"Winner: {team_2}\")\n",
    "\n",
    "  print((\"\"))"
   ]
  },
  {
   "cell_type": "markdown",
   "metadata": {},
   "source": [
    "Predicting the First Semi Final :\n"
   ]
  },
  {
   "cell_type": "code",
   "execution_count": null,
   "metadata": {},
   "outputs": [],
   "source": [
    "predict_single_match(rf, rankings, \"India\", \"New Zealand\")"
   ]
  },
  {
   "cell_type": "markdown",
   "metadata": {},
   "source": [
    "Second Semi Final Result:\n"
   ]
  },
  {
   "cell_type": "code",
   "execution_count": null,
   "metadata": {},
   "outputs": [],
   "source": [
    "predict_single_match(rf, rankings, \"Australia\", \"South Africa\")"
   ]
  },
  {
   "cell_type": "markdown",
   "metadata": {},
   "source": [
    "Predict the Final Match Result:\n"
   ]
  },
  {
   "cell_type": "code",
   "execution_count": null,
   "metadata": {},
   "outputs": [],
   "source": [
    "predict_single_match(rf, rankings, \"India\", \"South Africa\")"
   ]
  },
  {
   "cell_type": "code",
   "execution_count": null,
   "metadata": {},
   "outputs": [],
   "source": []
  }
 ],
 "metadata": {
  "kernelspec": {
   "display_name": "Python 3",
   "language": "python",
   "name": "python3"
  },
  "language_info": {
   "codemirror_mode": {
    "name": "ipython",
    "version": 3
   },
   "file_extension": ".py",
   "mimetype": "text/x-python",
   "name": "python",
   "nbconvert_exporter": "python",
   "pygments_lexer": "ipython3",
   "version": "3.11.5"
  }
 },
 "nbformat": 4,
 "nbformat_minor": 2
}
